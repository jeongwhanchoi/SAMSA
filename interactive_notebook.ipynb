{
 "cells": [
  {
   "cell_type": "code",
   "execution_count": 1,
   "metadata": {},
   "outputs": [],
   "source": [
    "import torch\n",
    "import torch.nn as nn\n",
    "import torch.nn.functional as F\n",
    "import random\n",
    "from tqdm import tqdm"
   ]
  },
  {
   "cell_type": "code",
   "execution_count": 14,
   "metadata": {},
   "outputs": [],
   "source": [
    "def decimal_to_binary(decimal_num, n_digits):\n",
    "    if decimal_num == 0:\n",
    "        binary_num = [-1]\n",
    "        while len(binary_num) < n_digits:\n",
    "            binary_num.append(-1)\n",
    "        return binary_num\n",
    "    binary_num = []\n",
    "    while decimal_num > 0:\n",
    "        remainder = decimal_num % 2\n",
    "        if remainder == 0:\n",
    "            remainder = -1\n",
    "        binary_num.append(remainder)\n",
    "        decimal_num //= 2\n",
    "    while len(binary_num) < n_digits:\n",
    "        binary_num.append(-1)\n",
    "    binary_num = binary_num[:n_digits]\n",
    "    return binary_num\n",
    "\n",
    "def make_dataset(batch_size, n_batches, r, device='cpu'):\n",
    "    x = []\n",
    "    y = []\n",
    "    for i in range(n_batches):\n",
    "        x1_ = []\n",
    "        x2_ = []\n",
    "        y_ = []\n",
    "        for j in range(batch_size):\n",
    "            a, b = random.randint(0, (2 ** r)), random.randint(0, (2 ** r))\n",
    "            c = a * b\n",
    "            x1_.append(decimal_to_binary(a, 64))\n",
    "            x2_.append(decimal_to_binary(b, 64))\n",
    "            y_.append(decimal_to_binary(c, 64))\n",
    "        x1_ = torch.tensor(x1_)\n",
    "        x2_ = torch.tensor(x2_)\n",
    "        y_ = torch.tensor(y_)\n",
    "        x_ = torch.stack([x1_, x2_], dim=2)\n",
    "        y_ = y_.unsqueeze(-1)\n",
    "        x.append(x_.to(device))\n",
    "        y.append(y_.to(device))\n",
    "    return x, y\n",
    "\n",
    "x_train, y_train = make_dataset(64, 1024, 9, 'cuda')\n",
    "x_test, y_test = make_dataset(64, 1024, 31, 'cuda')"
   ]
  },
  {
   "cell_type": "code",
   "execution_count": 15,
   "metadata": {},
   "outputs": [],
   "source": [
    "class BitTransform(nn.Module):\n",
    "    def __init__(self, out_features, in_features):\n",
    "        super().__init__()\n",
    "        self.out_features = out_features\n",
    "        self.in_features = in_features\n",
    "        self.weight = nn.Parameter(torch.zeros(1, in_features, out_features), requires_grad=True)\n",
    "\n",
    "    def forward(self, x):\n",
    "        x = self.bit_transform(x.reshape(x.shape[0] * x.shape[1], self.in_features)).reshape(x.shape[0], x.shape[1], self.out_features)\n",
    "        return x\n",
    "    \n",
    "    def bit_transform(self, x):\n",
    "        x = x.unsqueeze(-1)\n",
    "        x = x * self.weight\n",
    "        x = x + torch.randn_like(x)\n",
    "        x = torch.max(x, dim=-2, keepdim=False)[0]\n",
    "        return x"
   ]
  },
  {
   "cell_type": "code",
   "execution_count": 19,
   "metadata": {},
   "outputs": [],
   "source": [
    "def rewardfunc(x, y):\n",
    "    return torch.mean(x / torch.abs(x) * y)"
   ]
  },
  {
   "cell_type": "code",
   "execution_count": 20,
   "metadata": {},
   "outputs": [],
   "source": [
    "model = nn.Sequential(\n",
    "    BitTransform(16, 2),\n",
    "    BitTransform(16, 16),\n",
    "    BitTransform(16, 16),\n",
    "    BitTransform(1, 16)\n",
    ").to('cuda')\n",
    "\n",
    "opti = torch.optim.Adam(model.parameters(), maximize=True)"
   ]
  },
  {
   "cell_type": "code",
   "execution_count": 21,
   "metadata": {},
   "outputs": [
    {
     "name": "stderr",
     "output_type": "stream",
     "text": [
      "0.23583984375:   1%|          | 9/1000 [01:26<2:26:18,  8.86s/it]"
     ]
    }
   ],
   "source": [
    "loop = tqdm(range(1000))\n",
    "rew_avg = 0\n",
    "\n",
    "for i in loop:\n",
    "    for j in range(len(x_train)):\n",
    "        pred = model(x_train[j])\n",
    "        reward = rewardfunc(pred, y_train[j])\n",
    "        opti.zero_grad()\n",
    "        reward.backward()\n",
    "        opti.step()\n",
    "        rew_avg = rew_avg * 0.99 + reward.item() * 0.01\n",
    "        loop.set_description(str(rew_avg)[:16])"
   ]
  },
  {
   "cell_type": "code",
   "execution_count": 6,
   "metadata": {},
   "outputs": [
    {
     "name": "stderr",
     "output_type": "stream",
     "text": [
      "177.094360351562:   0%|          | 0/1024 [00:03<?, ?it/s]"
     ]
    },
    {
     "ename": "KeyboardInterrupt",
     "evalue": "",
     "output_type": "error",
     "traceback": [
      "\u001b[1;31m---------------------------------------------------------------------------\u001b[0m",
      "\u001b[1;31mKeyboardInterrupt\u001b[0m                         Traceback (most recent call last)",
      "Cell \u001b[1;32mIn[6], line 6\u001b[0m\n\u001b[0;32m      4\u001b[0m pred \u001b[38;5;241m=\u001b[39m model(x_test[j])\n\u001b[0;32m      5\u001b[0m reward \u001b[38;5;241m=\u001b[39m torch\u001b[38;5;241m.\u001b[39mmean(pred \u001b[38;5;241m*\u001b[39m y_test[j])\n\u001b[1;32m----> 6\u001b[0m loop\u001b[38;5;241m.\u001b[39mset_description(\u001b[38;5;28mstr\u001b[39m(\u001b[43mreward\u001b[49m\u001b[38;5;241;43m.\u001b[39;49m\u001b[43mitem\u001b[49m\u001b[43m(\u001b[49m\u001b[43m)\u001b[49m \u001b[38;5;241m+\u001b[39m \u001b[38;5;241m1\u001b[39m)[:\u001b[38;5;241m16\u001b[39m])\n",
      "\u001b[1;31mKeyboardInterrupt\u001b[0m: "
     ]
    }
   ],
   "source": [
    "loop = tqdm(range(len(x_test)))\n",
    "\n",
    "for j in range(len(x_test)):\n",
    "    pred = model(x_test[j])\n",
    "    reward = torch.mean(pred * y_test[j])\n",
    "    loop.set_description(str(reward.item() + 1)[:16])"
   ]
  },
  {
   "cell_type": "code",
   "execution_count": 78,
   "metadata": {},
   "outputs": [
    {
     "data": {
      "text/plain": [
       "torch.Size([64, 64, 1])"
      ]
     },
     "execution_count": 78,
     "metadata": {},
     "output_type": "execute_result"
    }
   ],
   "source": [
    "BitTransform(1, 2).to('cuda')(x_train[0]).shape"
   ]
  },
  {
   "cell_type": "code",
   "execution_count": 48,
   "metadata": {},
   "outputs": [
    {
     "name": "stderr",
     "output_type": "stream",
     "text": [
      "c:\\Users\\lenha\\AppData\\Local\\Programs\\Python\\Python311\\Lib\\site-packages\\seaborn\\_oldcore.py:1498: FutureWarning: is_categorical_dtype is deprecated and will be removed in a future version. Use isinstance(dtype, CategoricalDtype) instead\n",
      "  if pd.api.types.is_categorical_dtype(vector):\n",
      "c:\\Users\\lenha\\AppData\\Local\\Programs\\Python\\Python311\\Lib\\site-packages\\seaborn\\_oldcore.py:1119: FutureWarning: use_inf_as_na option is deprecated and will be removed in a future version. Convert inf values to NaN before operating instead.\n",
      "  with pd.option_context('mode.use_inf_as_na', True):\n",
      "c:\\Users\\lenha\\AppData\\Local\\Programs\\Python\\Python311\\Lib\\site-packages\\seaborn\\_oldcore.py:1498: FutureWarning: is_categorical_dtype is deprecated and will be removed in a future version. Use isinstance(dtype, CategoricalDtype) instead\n",
      "  if pd.api.types.is_categorical_dtype(vector):\n",
      "c:\\Users\\lenha\\AppData\\Local\\Programs\\Python\\Python311\\Lib\\site-packages\\seaborn\\_oldcore.py:1119: FutureWarning: use_inf_as_na option is deprecated and will be removed in a future version. Convert inf values to NaN before operating instead.\n",
      "  with pd.option_context('mode.use_inf_as_na', True):\n"
     ]
    },
    {
     "data": {
      "image/png": "[encoded data removed]",
      "text/plain": [
       "<Figure size 640x480 with 1 Axes>"
      ]
     },
     "metadata": {},
     "output_type": "display_data"
    }
   ],
   "source": [
    "import seaborn as sns\n",
    "import matplotlib.pyplot as plt\n",
    "import numpy as np\n",
    "import random\n",
    "import math\n",
    "\n",
    "def draw(rng, n_samples=1000):\n",
    "  \"\"\"\n",
    "  Draws a KDE plot of the distribution of a random number generator.\n",
    "\n",
    "  Args:\n",
    "    rng: A Python function that returns a random number.\n",
    "    n_samples: The number of samples to draw from the RNG.\n",
    "\n",
    "  Returns:\n",
    "    None.\n",
    "  \"\"\"\n",
    "  samples = np.array([rng() for _ in range(n_samples)])\n",
    "  sns.histplot(samples, kde=True, binwidth=0.01)\n",
    "\n",
    "# Define some example RNG functions\n",
    "def orig():\n",
    "    return max([random.normalvariate() for _ in range(1)])\n",
    "    # if random.randint(0, 1) == 0:\n",
    "    #     return max([random.normalvariate(1) for _ in range(1)])\n",
    "    # else:\n",
    "    #     return min([random.normalvariate(-1) for _ in range(1)])\n",
    "    \n",
    "class rng():\n",
    "    def __init__(self, orig) -> None:\n",
    "        self.orig = orig\n",
    "        pass\n",
    "    \n",
    "    def __call__(self):\n",
    "        choice = random.randint(0, 0)\n",
    "        if choice == 0:\n",
    "            return max([orig() * random.normalvariate() for _ in range(1000)])\n",
    "        elif choice == 1:\n",
    "            return min([orig() * random.normalvariate() for _ in range(1000)])\n",
    "\n",
    "# draw(orig)\n",
    "draw(rng(orig))\n",
    "# draw(rng(rng(orig)))\n",
    "draw(rng(rng(rng(rng(rng(rng(rng(rng(orig)))))))))\n",
    "plt.show()"
   ]
  }
 ],
 "metadata": {
  "kernelspec": {
   "display_name": "Python 3",
   "language": "python",
   "name": "python3"
  },
  "language_info": {
   "codemirror_mode": {
    "name": "ipython",
    "version": 3
   },
   "file_extension": ".py",
   "mimetype": "text/x-python",
   "name": "python",
   "nbconvert_exporter": "python",
   "pygments_lexer": "ipython3",
   "version": "3.11.5"
  }
 },
 "nbformat": 4,
 "nbformat_minor": 2
}
