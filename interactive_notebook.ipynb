{
 "cells": [
  {
   "cell_type": "code",
   "execution_count": 23,
   "metadata": {},
   "outputs": [
    {
     "name": "stdout",
     "output_type": "stream",
     "text": [
      "torch.Size([1, 2])\n",
      "tensor([[-0.6703,  1.6879]], requires_grad=True)\n",
      "tensor([[1.1448, 0.8391],\n",
      "        [0.0912, 2.8409]], requires_grad=True)\n",
      "x_grad tensor([[1.9839, 2.9322]])\n",
      "y_grad tensor([[-0.6703, -0.6703],\n",
      "        [ 1.6879,  1.6879]])\n"
     ]
    }
   ],
   "source": [
    "import torch\n",
    "\n",
    "class MatrixMultiplyFunction(torch.autograd.Function):\n",
    "    @staticmethod\n",
    "    def forward(ctx, input1, input2):\n",
    "        ctx.save_for_backward(input1, input2)\n",
    "        return torch.matmul(input1, input2)\n",
    "\n",
    "    @staticmethod\n",
    "    def backward(ctx, grad_output):\n",
    "        input1, input2 = ctx.saved_tensors\n",
    "        print(grad_output.shape)\n",
    "        grad_input1 = torch.matmul(grad_output, input2.t())\n",
    "        grad_input2 = torch.matmul(input1.t(), grad_output)\n",
    "        return grad_input1, grad_input2\n",
    "\n",
    "# Example usage:\n",
    "# Create tensors\n",
    "x = torch.randn(1, 2, requires_grad=True)\n",
    "y = torch.randn(2, 2, requires_grad=True)\n",
    "\n",
    "# Call the custom function\n",
    "mul = MatrixMultiplyFunction.apply\n",
    "output = mul(x, y)\n",
    "\n",
    "# Suppose we have some loss function\n",
    "loss = output.sum()\n",
    "\n",
    "# Backward pass\n",
    "loss.backward()\n",
    "\n",
    "# Gradients\n",
    "print(x)\n",
    "print(y)\n",
    "print(\"x_grad\", x.grad)\n",
    "print(\"y_grad\", y.grad)"
   ]
  },
  {
   "cell_type": "code",
   "execution_count": 1,
   "metadata": {},
   "outputs": [],
   "source": [
    "import torch"
   ]
  },
  {
   "cell_type": "code",
   "execution_count": 3,
   "metadata": {},
   "outputs": [],
   "source": [
    "A = torch.randn(2, 2, requires_grad=True)\n",
    "B = torch.randn(1, 2, requires_grad=True)"
   ]
  },
  {
   "cell_type": "code",
   "execution_count": 8,
   "metadata": {},
   "outputs": [],
   "source": [
    "(torch.sum(B @ A)).backward()"
   ]
  },
  {
   "cell_type": "code",
   "execution_count": 9,
   "metadata": {},
   "outputs": [
    {
     "data": {
      "text/plain": [
       "tensor([[-0.3815,  0.7679],\n",
       "        [-1.6135,  1.3187]], requires_grad=True)"
      ]
     },
     "execution_count": 9,
     "metadata": {},
     "output_type": "execute_result"
    }
   ],
   "source": [
    "A"
   ]
  },
  {
   "cell_type": "code",
   "execution_count": 10,
   "metadata": {},
   "outputs": [
    {
     "data": {
      "text/plain": [
       "tensor([[0.8098, 1.2933]], requires_grad=True)"
      ]
     },
     "execution_count": 10,
     "metadata": {},
     "output_type": "execute_result"
    }
   ],
   "source": [
    "B"
   ]
  },
  {
   "cell_type": "code",
   "execution_count": 11,
   "metadata": {},
   "outputs": [
    {
     "data": {
      "text/plain": [
       "tensor([[0.8098, 0.8098],\n",
       "        [1.2933, 1.2933]])"
      ]
     },
     "execution_count": 11,
     "metadata": {},
     "output_type": "execute_result"
    }
   ],
   "source": [
    "A.grad"
   ]
  },
  {
   "cell_type": "code",
   "execution_count": 12,
   "metadata": {},
   "outputs": [
    {
     "data": {
      "text/plain": [
       "tensor([[ 0.3863, -0.2948]])"
      ]
     },
     "execution_count": 12,
     "metadata": {},
     "output_type": "execute_result"
    }
   ],
   "source": [
    "B.grad"
   ]
  },
  {
   "cell_type": "code",
   "execution_count": 13,
   "metadata": {},
   "outputs": [
    {
     "data": {
      "text/plain": [
       "0.3864"
      ]
     },
     "execution_count": 13,
     "metadata": {},
     "output_type": "execute_result"
    }
   ],
   "source": [
    "0.7679 - 0.3815"
   ]
  }
 ],
 "metadata": {
  "kernelspec": {
   "display_name": "Python 3",
   "language": "python",
   "name": "python3"
  },
  "language_info": {
   "codemirror_mode": {
    "name": "ipython",
    "version": 3
   },
   "file_extension": ".py",
   "mimetype": "text/x-python",
   "name": "python",
   "nbconvert_exporter": "python",
   "pygments_lexer": "ipython3",
   "version": "3.11.5"
  }
 },
 "nbformat": 4,
 "nbformat_minor": 2
}
